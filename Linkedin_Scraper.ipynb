{
 "cells": [
  {
   "cell_type": "markdown",
   "metadata": {},
   "source": [
    "<h1> Scraper Linkedin Profile's Information"
   ]
  },
  {
   "cell_type": "markdown",
   "metadata": {},
   "source": [
    "<h2>Import Libarires and access the linkedin page "
   ]
  },
  {
   "cell_type": "code",
   "execution_count": 26,
   "metadata": {},
   "outputs": [],
   "source": [
    "from selenium import webdriver\n",
    "from parsel import Selector\n",
    "import time\n",
    "\n",
    "driver = webdriver.Chrome('/usr/bin/chromedriver')\n",
    "driver.get('https://www.linkedin.com')\n",
    "time.sleep(1)"
   ]
  },
  {
   "cell_type": "markdown",
   "metadata": {},
   "source": [
    "<h2>Login Username and Password "
   ]
  },
  {
   "cell_type": "code",
   "execution_count": 27,
   "metadata": {},
   "outputs": [],
   "source": [
    "\n",
    "username = driver.find_element_by_id('session_key')\n",
    "username.send_keys('xxxxxx)\n",
    "time.sleep(0.5)\n",
    "\n",
    "password = driver.find_element_by_id('session_password')\n",
    "password.send_keys('xxxxx')\n",
    "time.sleep(0.5)\n",
    "\n",
    "log_in_button = driver.find_element_by_class_name('sign-in-form__submit-button')\n",
    "log_in_button.click()\n",
    "time.sleep(0.5)"
   ]
  },
  {
   "cell_type": "markdown",
   "metadata": {},
   "source": [
    "<h2>Click Remember Botton to Asscess the Page of Linkedin"
   ]
  },
  {
   "cell_type": "code",
   "execution_count": 28,
   "metadata": {},
   "outputs": [],
   "source": [
    "log_in_button_remember = driver.find_element_by_class_name('btn__primary--large')\n",
    "log_in_button_remember.click()\n",
    "time.sleep(2)"
   ]
  },
  {
   "cell_type": "markdown",
   "metadata": {},
   "source": [
    "<h2>By Clicking the Profile Image to go into the Profile Page"
   ]
  },
  {
   "cell_type": "code",
   "execution_count": 29,
   "metadata": {},
   "outputs": [],
   "source": [
    "profile_botton = driver.find_element_by_xpath('//*[starts-with(@data-control-name, \"identity_profile_photo\")]')\n",
    "profile_botton.click()\n",
    "time.sleep(0.5)"
   ]
  },
  {
   "cell_type": "code",
   "execution_count": 30,
   "metadata": {},
   "outputs": [],
   "source": [
    "#assign the source code to variable sel\n",
    "\n",
    "sel = Selector(text=driver.page_source) "
   ]
  },
  {
   "cell_type": "markdown",
   "metadata": {},
   "source": [
    "<h2>Get Information from Linkedin URL"
   ]
  },
  {
   "cell_type": "markdown",
   "metadata": {},
   "source": [
    "<h3>1.Profile's URL"
   ]
  },
  {
   "cell_type": "code",
   "execution_count": 31,
   "metadata": {},
   "outputs": [
    {
     "name": "stdout",
     "output_type": "stream",
     "text": [
      "\n",
      "Profile_url: https://www.linkedin.com/in/jingyi-yazmine-chen/\n"
     ]
    }
   ],
   "source": [
    "my_profile_url=driver.current_url\n",
    "print('\\nProfile_url:',my_profile_url)\n"
   ]
  },
  {
   "cell_type": "markdown",
   "metadata": {},
   "source": [
    "<h3>2.Profile's Name"
   ]
  },
  {
   "cell_type": "code",
   "execution_count": 32,
   "metadata": {},
   "outputs": [
    {
     "name": "stdout",
     "output_type": "stream",
     "text": [
      "\n",
      "Name: Jingyi(Yazmine) Chen\n"
     ]
    }
   ],
   "source": [
    "#get profile's name\n",
    "\n",
    "name = sel.xpath('//*[starts-with(@class, \"text-heading-xlarge inline t-24 v-align-middle break-words\")]/text()').extract_first()\n",
    "print('\\nName:',name)"
   ]
  },
  {
   "cell_type": "markdown",
   "metadata": {},
   "source": [
    "<h3>3.Profile's Title"
   ]
  },
  {
   "cell_type": "code",
   "execution_count": 33,
   "metadata": {},
   "outputs": [
    {
     "name": "stdout",
     "output_type": "stream",
     "text": [
      "\n",
      "Title: Master's Student in Applied Statistics at Cornell University (Data Science Track)\n"
     ]
    }
   ],
   "source": [
    "#get profile's title\n",
    "\n",
    "title = sel.xpath('//*[starts-with(@class, \"text-body-medium break-words\")]/text()').extract_first()\n",
    "if title:\n",
    "    title = title.strip()\n",
    "print('\\nTitle:',title)"
   ]
  },
  {
   "cell_type": "markdown",
   "metadata": {},
   "source": [
    "<h3>4.Profile's Current Work Company"
   ]
  },
  {
   "cell_type": "code",
   "execution_count": 34,
   "metadata": {},
   "outputs": [
    {
     "name": "stdout",
     "output_type": "stream",
     "text": [
      "\n",
      "Current Work Company: University of California, Los Angeles\n"
     ]
    }
   ],
   "source": [
    "#get profile's current work company\n",
    "\n",
    "work_company = sel.xpath('//*[starts-with(@aria-label, \"Current company\")]/text()').extract_first()\n",
    "if work_company:\n",
    "    work_company = work_company.strip()\n",
    "print('\\nCurrent Work Company:',work_company)"
   ]
  },
  {
   "cell_type": "markdown",
   "metadata": {},
   "source": [
    "<h3>5.Profile's Current Education"
   ]
  },
  {
   "cell_type": "code",
   "execution_count": 35,
   "metadata": {},
   "outputs": [
    {
     "name": "stdout",
     "output_type": "stream",
     "text": [
      "\n",
      "Education: Cornell University\n"
     ]
    }
   ],
   "source": [
    "#get profile's education\n",
    "\n",
    "education = sel.xpath('//*[starts-with(@aria-label, \"Education\")]/text()').extract_first()\n",
    "if education:\n",
    "    education = education.strip()\n",
    "print('\\nEducation:',education)"
   ]
  },
  {
   "cell_type": "markdown",
   "metadata": {},
   "source": [
    "<h3>6.Profile's Contact Info\n"
   ]
  },
  {
   "cell_type": "code",
   "execution_count": 36,
   "metadata": {},
   "outputs": [
    {
     "name": "stdout",
     "output_type": "stream",
     "text": [
      "\n",
      "Phone: 909304887 (Mobile)\n",
      "\n",
      "Address: 8252 Lily Dr, Rosemead\n",
      "\n",
      "Email: jc2498@cornell.edu\n",
      "\n",
      "Birthday: June 23\n"
     ]
    }
   ],
   "source": [
    "#contact info(Phone/Address/Email/Birthday)\n",
    "\n",
    "profile_botton = driver.find_element_by_xpath('//*[starts-with(@class, \"ember-view link-without-visited-state cursor-pointer text-heading-small inline-block break-words\")]')\n",
    "profile_botton.click()\n",
    "time.sleep(0.5)\n",
    "\n",
    "contact_info = driver.find_element_by_xpath('//*[starts-with(@class, \"pv-profile-section__section-info section-info\")]')\n",
    "\n",
    "contact_info=contact_info.text\n",
    "contact_info=contact_info.split('\\n')\n",
    "\n",
    "print('\\nPhone:',contact_info[3])\n",
    "print('\\nAddress:',contact_info[5])\n",
    "print('\\nEmail:',contact_info[7])\n",
    "print('\\nBirthday:',contact_info[9])"
   ]
  },
  {
   "cell_type": "code",
   "execution_count": 37,
   "metadata": {},
   "outputs": [],
   "source": [
    "dismiss_contact_botton = driver.find_element_by_class_name('artdeco-button__icon')\n",
    "dismiss_contact_botton.click()\n",
    "time.sleep(0.5)"
   ]
  },
  {
   "cell_type": "markdown",
   "metadata": {},
   "source": [
    "<h3>7.Profile's Connection Number"
   ]
  },
  {
   "cell_type": "code",
   "execution_count": 38,
   "metadata": {},
   "outputs": [
    {
     "name": "stdout",
     "output_type": "stream",
     "text": [
      "\n",
      "There are 98 connections\n",
      "\n"
     ]
    }
   ],
   "source": [
    "#get number of connection\n",
    "\n",
    "connection = sel.xpath('//*[starts-with(@class, \"t-bold\")]/text()').extract_first()\n",
    "if connection:\n",
    "    connection = connection.strip()\n",
    "print('\\nThere are %s connections\\n'%connection)\n"
   ]
  },
  {
   "cell_type": "markdown",
   "metadata": {},
   "source": [
    "<h3>8.Profile's Summary"
   ]
  },
  {
   "cell_type": "code",
   "execution_count": 39,
   "metadata": {},
   "outputs": [
    {
     "name": "stdout",
     "output_type": "stream",
     "text": [
      "\n",
      "Summary:\n",
      " Currently majoring in statistics and data science at Cornell University and recently graduated with a bachelor’s degree in applied mathematics at UCLA. Having accumulated knowledge and research experience in data analytics especially in machine learning. I'm a fast learner and a team player with good communication skills to provide an optimal solution to every problem.\n"
     ]
    }
   ],
   "source": [
    "#get summary of person\n",
    "see_more_botton1 = driver.find_element_by_id('line-clamp-show-more-button')\n",
    "see_more_botton1.click()\n",
    "time.sleep(2)\n",
    "summary=driver.find_element_by_xpath('//*[starts-with(@class, \"lt-line-clamp__raw-line\")]')\n",
    "print('\\nSummary:\\n',summary.text)"
   ]
  },
  {
   "cell_type": "markdown",
   "metadata": {},
   "source": [
    "<h3>9.Profile's Skills"
   ]
  },
  {
   "cell_type": "code",
   "execution_count": 40,
   "metadata": {},
   "outputs": [],
   "source": [
    "#expand experience\n",
    "see_more_botton2 = driver.find_element_by_class_name('inline-show-more-text__link-container-collapsed')\n",
    "see_more_botton2.click()\n",
    "time.sleep(2)\n",
    "see_more_botton3 = driver.find_element_by_class_name('inline-show-more-text__link-container-collapsed')\n",
    "see_more_botton3.click()\n",
    "time.sleep(2)\n",
    "see_more_botton4 = driver.find_element_by_class_name('inline-show-more-text__link-container-collapsed')\n",
    "see_more_botton4.click()\n",
    "time.sleep(2)"
   ]
  },
  {
   "cell_type": "code",
   "execution_count": 41,
   "metadata": {},
   "outputs": [
    {
     "name": "stdout",
     "output_type": "stream",
     "text": [
      "\n",
      " There are 43 Total Skills: \n"
     ]
    },
    {
     "data": {
      "text/plain": [
       "['Creative Problem Solving',\n",
       " 'Data Analysis',\n",
       " 'Machine Learning',\n",
       " 'Algorithms',\n",
       " 'Research',\n",
       " 'Digital Media',\n",
       " 'Deep Learning',\n",
       " 'Computer vision',\n",
       " 'Image Processing',\n",
       " 'Data Mining',\n",
       " 'Artificial Intelligence (AI)',\n",
       " 'Programming',\n",
       " 'Mathematics',\n",
       " 'Stata',\n",
       " 'R',\n",
       " 'Python',\n",
       " 'MATLAB',\n",
       " 'C++',\n",
       " 'TensorFlow',\n",
       " 'Pytorch',\n",
       " 'Keras',\n",
       " 'Caffe',\n",
       " 'Pandas (Software)',\n",
       " 'Seaborn',\n",
       " 'Critical Thinking',\n",
       " 'Leadership',\n",
       " 'Sentiment Analysis',\n",
       " 'Regression Analysis',\n",
       " 'Differential Equations',\n",
       " 'Complex Analysis',\n",
       " 'Real Analysis',\n",
       " 'Data Reporting',\n",
       " 'Predictive Modeling',\n",
       " 'Jax',\n",
       " 'OpenCV',\n",
       " 'Scikit-Learn',\n",
       " 'NumPy',\n",
       " 'Matplotlib',\n",
       " 'Data Analytics',\n",
       " 'Applied Mathematics',\n",
       " 'Convolutional Neural Networks (CNN)',\n",
       " 'Linear Algebra',\n",
       " 'Linear Regression']"
      ]
     },
     "execution_count": 41,
     "metadata": {},
     "output_type": "execute_result"
    }
   ],
   "source": [
    "#expand skills\n",
    "see_more_botton5 = driver.find_element_by_class_name('pv-skills-section__chevron-icon')\n",
    "see_more_botton5.click()\n",
    "time.sleep(2)\n",
    "#get skills\n",
    "skills = driver.find_elements_by_xpath(\"//*[starts-with(@class,'pv-skill-category-entity__name-text')]\")\n",
    "\n",
    "#create skills set\n",
    "skill_set = []\n",
    "for skill in skills:\n",
    "    skill_set.append(skill.text)\n",
    "print('\\n There are %s Total Skills: '%len(skill_set))\n",
    "skill_set\n"
   ]
  },
  {
   "cell_type": "markdown",
   "metadata": {},
   "source": [
    "<h3>10.Profile's Experiences"
   ]
  },
  {
   "cell_type": "code",
   "execution_count": 42,
   "metadata": {},
   "outputs": [],
   "source": [
    "#get experiences\n",
    "experiences = driver.find_elements_by_xpath(\"//*[starts-with(@class,'pv-entity__extra-details')]\")\n",
    "\n",
    "\n",
    "experience_set = []\n",
    "for experience in experiences:\n",
    "#     print('\\n',experience.text)\n",
    "    experience_set.append(experience.text)\n"
   ]
  },
  {
   "cell_type": "code",
   "execution_count": 43,
   "metadata": {},
   "outputs": [],
   "source": [
    "#get companys name\n",
    "\n",
    "companys = driver.find_elements_by_xpath(\"//*[starts-with(@data-control-name,'background_details_company')]\")\n",
    "\n",
    "#create skills set\n",
    "company_set = []\n",
    "for company in companys:\n",
    "#     print('\\n',company.text)\n",
    "    company_set.append(company.text)"
   ]
  },
  {
   "cell_type": "code",
   "execution_count": 44,
   "metadata": {},
   "outputs": [
    {
     "name": "stdout",
     "output_type": "stream",
     "text": [
      "\n",
      "Experience 1:\n",
      " Company Name\n",
      "University of California, Los Angeles\n",
      "Total Duration\n",
      "1 yr 9 mos\n",
      "\n",
      " Details:\n",
      "  Developed a suite of deep learning models aiming to predict the performance of engineering materials:\n",
      "◼ Leveraged machine learning model to screen reactive vs. unreactive fly ashes based on chemical and physical features; pinpoint optimal concrete formulations that meet a given strength requirement while featuring minimal cost and with CO 2 emissions.\n",
      "◼ Boosted the learning efficiency by tuning the hyperparameters (regularization term, learning rate, batch size, etc.) in this architecture of the artificial neural network as compared to the previous state-of-the-art model relying on random forest.\n",
      "◼ Implemented various data analysis techniques, such as stratified sampling and SHapley Additive exPlanations (SHAP) analysis, to improve the accuracy and increase the interpretability of the learning results.\n",
      "◼ Adapted a novel approach (confident learning) from classification problems to the case of regression problems to handle noise and detect outliers automatically.\n",
      "◼ Used transfer learning technique with well-trained neural network model on field dataset to apply on lab dataset.\n",
      "◼ Experienced with several deep learning frameworks, including TensorFlow, PyTorch, and Caffe.\n",
      "see less\n"
     ]
    }
   ],
   "source": [
    "print('\\nExperience 1:\\n',company_set[0])\n",
    "print('\\n Details:\\n ',experience_set[0])"
   ]
  },
  {
   "cell_type": "code",
   "execution_count": 45,
   "metadata": {},
   "outputs": [
    {
     "name": "stdout",
     "output_type": "stream",
     "text": [
      "\n",
      "Experience 2:\n",
      " Company Name\n",
      "University of California, Los Angeles\n",
      "Total Duration\n",
      "1 yr 9 mos\n",
      "\n",
      " Details: \n",
      "  -Analyzed, designed, and implemented computer vision-based navigation algorithms for rough crop lane detection and weeds/crops identification based on unmanned ground agriculture robots.\n",
      "-Designed and conducted an image processing pipeline to identity the vagueness crop roots by using Gaussian Blur, HSV Color Filtering, Erosion, Dilation, and Edge Detection.\n",
      "-Organized and compared the line detection algorithms including Hough Transform Detector, Line Segment Detector, and Fast Line Detector.\n",
      "-Developed a series of robust machine learning classification methods for robotic weed control by using KNN, Random Forest, SVM model, as well as deep learning model based on a CNN architecture.\n",
      "see less\n"
     ]
    }
   ],
   "source": [
    "print('\\nExperience 2:\\n',company_set[0])\n",
    "print('\\n Details: \\n ',experience_set[1])"
   ]
  },
  {
   "cell_type": "code",
   "execution_count": 46,
   "metadata": {},
   "outputs": [
    {
     "name": "stdout",
     "output_type": "stream",
     "text": [
      "\n",
      "Experience 3:\n",
      " Research Project\n",
      "Company Name\n",
      "NASA Ames Research Center\n",
      "Dates Employed\n",
      "Nov 2020 – Present\n",
      "Employment Duration\n",
      "6 mos\n",
      "\n",
      " Details:\n",
      "  -Project’s Name: “Battery Health Management for Small Satellites”.\n",
      "Analyzed batteries random walk charging and discharging cycles with randomly generated current profiles by using machine\n",
      "learning algorithms to monitor the health of lithium-ion batteries:\n",
      "◼ Designed a series of machine learning algorithms such as Lasso Regression, Random Forest, Time Series and Neural Network models to train one of period of batteries charging and discharging cycle to predict other periods.\n",
      "◼ Observed integrating current over reference cycles to check the capacity degradation of batteries health and applied a regression model to predict batteries health over time.\n",
      "see less\n"
     ]
    }
   ],
   "source": [
    "print('\\nExperience 3:\\n',company_set[1])\n",
    "print('\\n Details:\\n ',experience_set[2])"
   ]
  },
  {
   "cell_type": "code",
   "execution_count": null,
   "metadata": {},
   "outputs": [],
   "source": []
  }
 ],
 "metadata": {
  "kernelspec": {
   "display_name": "Python 3",
   "language": "python",
   "name": "python3"
  },
  "language_info": {
   "codemirror_mode": {
    "name": "ipython",
    "version": 3
   },
   "file_extension": ".py",
   "mimetype": "text/x-python",
   "name": "python",
   "nbconvert_exporter": "python",
   "pygments_lexer": "ipython3",
   "version": "3.8.3"
  }
 },
 "nbformat": 4,
 "nbformat_minor": 4
}
